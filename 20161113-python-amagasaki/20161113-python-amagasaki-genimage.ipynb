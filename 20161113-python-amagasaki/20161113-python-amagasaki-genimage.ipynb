{
 "cells": [
  {
   "cell_type": "code",
   "execution_count": 1,
   "metadata": {
    "collapsed": false,
    "slideshow": {
     "slide_type": "skip"
    }
   },
   "outputs": [
    {
     "data": {
      "application/javascript": [
       "IPython.notebook.set_autosave_interval(0)"
      ]
     },
     "metadata": {},
     "output_type": "display_data"
    },
    {
     "name": "stdout",
     "output_type": "stream",
     "text": [
      "Autosave disabled\n"
     ]
    },
    {
     "data": {
      "text/plain": [
       "{'center': False,\n",
       " 'height': '100%',\n",
       " 'margin': 0.0,\n",
       " 'maxScale': 1.5,\n",
       " 'minScale': 0.2,\n",
       " 'scroll': True,\n",
       " 'start_slideshow_at': 'selected',\n",
       " 'width': '100%'}"
      ]
     },
     "execution_count": 1,
     "metadata": {},
     "output_type": "execute_result"
    }
   ],
   "source": [
    "%autosave 0\n",
    "%matplotlib inline\n",
    "\n",
    "import os, sys\n",
    "sys.path.insert(0, os.path.expanduser('~/git/github/pymc-devs/pymc3'))\n",
    "\n",
    "import matplotlib\n",
    "import matplotlib.pyplot as plt\n",
    "from matplotlib import rc\n",
    "import pymc3 as pm\n",
    "import numpy as np\n",
    "import seaborn as sns\n",
    "\n",
    "from IPython.display import display\n",
    "from IPython.display import HTML\n",
    "import IPython.core.display as display\n",
    "\n",
    "# スライドのための設定\n",
    "from traitlets.config.manager import BaseJSONConfigManager\n",
    "path = os.path.expanduser('~/.jupyter/nbconfig') # \"/home/damian/miniconda3/envs/rise_latest/etc/jupyter/nbconfig\"\n",
    "cm = BaseJSONConfigManager(config_dir=path)\n",
    "cm.update('livereveal', {\n",
    "    'transition': None,\n",
    "    'width': '100%', \n",
    "    'height': '100%',\n",
    "    'margin': 0.0,\n",
    "    'minScale': 0.2,\n",
    "    'maxScale': 1.5, \n",
    "    'center': False\n",
    "})\n",
    "\n",
    "# cm.update('livereveal', {\n",
    "#               'width': 1200,\n",
    "#               'height': 800,\n",
    "# })\n",
    "\n",
    "# cm.update('livereveal', {\n",
    "#               'scroll': True,\n",
    "# })"
   ]
  },
  {
   "cell_type": "markdown",
   "metadata": {
    "slideshow": {
     "slide_type": "slide"
    }
   },
   "source": [
    "<br />\n",
    "\n",
    "<div style=\"text-align: center;\">\n",
    "<font size=\"7\"><b>画像生成のための確率モデルの基本</b></font>\n",
    "</div>\n",
    "<br />\n",
    "<br />\n",
    "<br />\n",
    "<br />\n",
    "<div style=\"text-align: right;\">\n",
    "<font size=\"6\">吉岡 琢    </font>\n",
    "</div>\n",
    "\n",
    "<br />"
   ]
  },
  {
   "cell_type": "markdown",
   "metadata": {
    "slideshow": {
     "slide_type": "slide"
    }
   },
   "source": [
    "## 発表内容\n",
    "* 画像生成と回帰モデル\n",
    "* 確率モデル\n",
    "* 教師あり画像生成モデルの例\n",
    "* 画像分布の確率モデル\n",
    "* 変分オートエンコーダ"
   ]
  },
  {
   "cell_type": "markdown",
   "metadata": {
    "slideshow": {
     "slide_type": "slide"
    }
   },
   "source": [
    "## 画像生成と回帰モデル\n",
    "* 画像生成: 入力ベクトル$x$を画像$y$（各ピクセルの輝度）に変換\n",
    "\n",
    "    * 画像における入力ベクトルの例: 画像の角度, 対象物の種類\n",
    "\n",
    "* 回帰モデル: 説明変数$x$を従属変数$y$に変換\n",
    "\n",
    "\n",
    "* 形式的にはどちらも同じ：$y=f_{\\theta}(x)$\n",
    "\n",
    "    * $\\theta$: モデルパラメータ \n",
    "\n",
    "\n",
    "* 線形回帰では$f_{\\theta}(x)=\\alpha x+\\beta, \\theta=\\{\\alpha,\\beta\\}$\n",
    "* 画像の場合$y$が高次元（ピクセル数）であり, $f_{\\theta}$は複雑（e.g., 逆畳み込みネットワーク）です."
   ]
  },
  {
   "cell_type": "markdown",
   "metadata": {
    "slideshow": {
     "slide_type": "slide"
    }
   },
   "source": [
    "## 確率モデル\n",
    "* $f_{\\theta}(x)$を観測値$y$がしたがう確率分布の平均とみなします.\n",
    "\n",
    "\n",
    "* 単変量回帰の場合: $p(y|x,\\theta) = N(f_{\\theta}(x), \\sigma^{2})$\n",
    "* 平均$f_{\\theta}(x)$, 分散$\\sigma^{2}$の正規分布\n",
    "* ここでは$\\sigma$をパラメータ$\\theta$に含めていませんが, 含める場合も多いです.\n",
    "\n",
    "\n",
    "* 画像の場合: $p(y|x,\\theta) = \\prod_{i}N(f_{\\theta,i}(x), \\sigma^{2}_{i})$\n",
    "* 各ピクセルの確率分布が独立と仮定しています. $i$はピクセルのインデックスです.\n",
    "* 正規分布以外のノイズも使われます."
   ]
  },
  {
   "cell_type": "markdown",
   "metadata": {
    "slideshow": {
     "slide_type": "slide"
    }
   },
   "source": [
    "## パラメータ推定\n",
    "* 教師あり学習の枠組みでパラメータ$\\theta$を推定\n",
    "* 尤度$L(\\theta)$: データ$\\{x^{(j)}, y^{(j)}\\}_{j=1}^{N}$が観測される確率\n",
    "\n",
    "$$\n",
    "L(\\theta) = \\prod_{j=1}^{N}p(y^{(j)}|x^{(j)},\\theta)\n",
    "$$\n",
    "\n",
    "* $L(\\theta)$が最大になるようにパラメータ$\\theta$を推定: 最尤推定\n",
    "* $y$の分布が正規分布の場合, 最小二乗と等価: $\\theta^{*}=\\sum_{j=1}^{N}{\\rm arg}\\min_{\\theta}(y^{(j)}-f_{\\theta}(x^{(j)}))^{2}$\n",
    "\n",
    "    * 尤度の対数（対数尤度）を計算すると確認できます."
   ]
  },
  {
   "cell_type": "markdown",
   "metadata": {
    "slideshow": {
     "slide_type": "slide"
    }
   },
   "source": [
    "## 教師あり画像生成モデルの例\n",
    "* Dosovitskiy et al., 2015\n",
    "<div align=\"center\">\n",
    "<img class=\"stretch\" src=\"dst2015-generative-cnn.png\" width=\"75%\" height=\"75%\"/>\n",
    "</div>"
   ]
  },
  {
   "cell_type": "markdown",
   "metadata": {
    "slideshow": {
     "slide_type": "slide"
    }
   },
   "source": [
    "## 動画"
   ]
  },
  {
   "cell_type": "markdown",
   "metadata": {
    "slideshow": {
     "slide_type": "slide"
    }
   },
   "source": [
    "## 多様体仮説と潜在変数\n",
    "<div align=\"center\">\n",
    "<img class=\"stretch\" src=\"mnist2.png\" width=\"40%\" height=\"40%\"/>\n",
    "</div>\n",
    "* 画像はピクセル数次元のベクトル, 画像はベクトル空間の1点です.\n",
    "* 輝度を2値に限定しても$2^(N_{pixel})$の組み合わせがあります.\n",
    "* ですが, 数字らしい画像は元の空間の低次元空間（多様体）に分布していると考えられます; 多様体仮説\n",
    "* 潜在変数をうまく推定すれば多様体上の座標とできる場合があります."
   ]
  },
  {
   "cell_type": "markdown",
   "metadata": {
    "slideshow": {
     "slide_type": "slide"
    }
   },
   "source": [
    "## 画像分布の確率モデル\n",
    "* これまで説明した画像生成モデル: $x$を所与とした条件付き分布 $p(y|x)$\n",
    "* 画像分布の確率モデル: 潜在変数$z$を所与とした条件付き分布 $p(y|z)$\n",
    "* もし訓練データ$D\\equiv\\{y^{(j)}\\}_{j=1}^{N}$中の画像$y^{(j)}$に対して潜在変数の分布$p(z^{(j)}|y^{(j)})$を知ることができれば, 学習データの中の画像が等確率で出現するとして, 訓練データ所与のもとでの画像の確率分布が次のようにして得られます.\n",
    "\n",
    "$$\n",
    "p(y|D) = \\sum_{j=1}^{j}\\frac{1}{N}\\int p(y|z^{j})p(z^{(j)}|y^{(j)})dz^{(j)}\n",
    "$$"
   ]
  },
  {
   "cell_type": "markdown",
   "metadata": {
    "slideshow": {
     "slide_type": "slide"
    }
   },
   "source": [
    "## 潜在変数のベイズ推定\n",
    "* 画像変換モデル$f_{\\theta}(x)$の場合と異なり, $y^{(j)}$に対応する$z^{(j)}$は未知\n",
    "* 潜在変数のベイズ推定\n",
    "\n",
    "$$\n",
    "p(z|y) = \\frac{p(y|z)p(z)}{p(y)}\n",
    "$$\n",
    "\n",
    "* $p(y|z)$: 画像生成の場合と同様に$f_{\\theta}(z)$を平均とする確率分布\n",
    "* $p(z)$: 適当な事前分布\n",
    "* $p(y)$: 正規化定数. この計算のためベイズ推定が困難 -> 変分ベイズ法"
   ]
  },
  {
   "cell_type": "markdown",
   "metadata": {
    "slideshow": {
     "slide_type": "slide"
    }
   },
   "source": [
    "## 変分ベイズ法\n",
    "* $p(z|y)$を適当な分布$q_{\\phi}(z)$で近似（$\\phi$はパラメータ）\n",
    "* 次式を$\\phi$について最大化\n",
    "$$\n",
    "{\\cal L}(\\phi)={\\mathbb E}_{q}\\left[\\log p(y,z)-\\log q_{\\phi}(z)\\right]\n",
    "$$\n",
    "* 次式が成り立ちます\n",
    "$$\n",
    "\\log p(y)=KL\\left[q_{\\phi}(z)||p(z|y)\\right]+{\\cal L}(\\phi)\n",
    "$$\n",
    "\n",
    "* 第1項は$q_{\\phi}(z)$と$p(z|y)$の距離です. 左辺は$\\phi$に関して定数なので, ${\\cal L}(\\phi)$の最大化は距離の最小化と等価です."
   ]
  },
  {
   "cell_type": "markdown",
   "metadata": {
    "slideshow": {
     "slide_type": "slide"
    }
   },
   "source": [
    "## 変分オートエンコーダ\n",
    "* $\\phi$を$y$の関数$\\phi(y;\\lambda)$で置き換えます（$\\lambda$はパラメータ）.\n",
    "* 次式を$\\theta,\\lambda$について最大化\n",
    "\n",
    "$$\n",
    "{\\cal L}(\\phi)={\\mathbb E}_{q}\\left[\\log p_{\\theta}(y,z)-\\log q_{\\phi(y;\\lambda)}(z)\\right]\n",
    "$$\n",
    "\n",
    "* $f(z;\\theta)$: デコーダー\n",
    "* $\\phi(y; \\lambda)$: エンコーダー"
   ]
  },
  {
   "cell_type": "markdown",
   "metadata": {
    "slideshow": {
     "slide_type": "slide"
    }
   },
   "source": [
    "## 画像分布推定の例\n",
    "<div align=\"center\">\n",
    "<img class=\"stretch\" src=\"mnist.png\" width=\"40%\" height=\"40%\"/>\n",
    "</div>"
   ]
  },
  {
   "cell_type": "markdown",
   "metadata": {
    "slideshow": {
     "slide_type": "slide"
    }
   },
   "source": [
    "## コード紹介\n",
    "https://taku-y.github.io/notebook/20161105/convolutional_vae_keras_advi.html"
   ]
  },
  {
   "cell_type": "markdown",
   "metadata": {
    "slideshow": {
     "slide_type": "slide"
    }
   },
   "source": [
    "## まとめ\n",
    "* 画像生成は回帰モデルとみなすことができます.\n",
    "* ノイズモデルを入れることで確率モデルとして扱うことができます.\n",
    "* 画像データ分布推定の方法として, 潜在変数モデルを考え, 潜在変数の分布を知る方法があります.\n",
    "* 潜在変数の事後分布は変分オートエンコーダで求めることができます."
   ]
  },
  {
   "cell_type": "markdown",
   "metadata": {
    "collapsed": true,
    "slideshow": {
     "slide_type": "slide"
    }
   },
   "source": [
    "# References\n",
    "* Dosovitskiy, A., Tobias Springenberg, J., & Brox, T. (2015). Learning to generate chairs with convolutional neural networks. In Proceedings of the IEEE Conference on Computer Vision and Pattern Recognition (pp. 1538-1546)."
   ]
  },
  {
   "cell_type": "code",
   "execution_count": 15,
   "metadata": {
    "collapsed": false,
    "slideshow": {
     "slide_type": "skip"
    }
   },
   "outputs": [
    {
     "name": "stdout",
     "output_type": "stream",
     "text": [
      "dict_keys(['COL_NAMES', 'DESCR', 'data', 'target'])\n",
      "(70000, 1, 28, 28) float32\n"
     ]
    },
    {
     "data": {
      "image/png": "[encoded data removed]",
      "text/plain": [
       "<matplotlib.figure.Figure at 0x7f765b31d198>"
      ]
     },
     "metadata": {},
     "output_type": "display_data"
    }
   ],
   "source": [
    "%matplotlib inline\n",
    "import matplotlib.pyplot as plt\n",
    "import matplotlib.gridspec as gridspec\n",
    "from sklearn.datasets import fetch_mldata\n",
    "mnist = fetch_mldata('MNIST original')\n",
    "print(mnist.keys())\n",
    "data = mnist['data'].reshape(-1, 1, 28, 28).astype('float32')\n",
    "data /= np.max(data)\n",
    "data = 0.001 + 0.998 * data\n",
    "print(data.shape, data.dtype)\n",
    "\n",
    "plt.figure(figsize=(10, 4))\n",
    "gs = gridspec.GridSpec(2, 5)\n",
    "matplotlib.rc('axes', **{'grid': False})\n",
    "\n",
    "for i in range(5):\n",
    "    ax = plt.subplot(gs[i])\n",
    "    ax.imshow(data[i * 7000, 0], interpolation='none', cmap='gray')\n",
    "    plt.axis('off')\n",
    "    \n",
    "for i in range(5, 10):\n",
    "    ax = plt.subplot(gs[i])\n",
    "    ax.imshow(np.random.randn(28, 28), interpolation='none', cmap='gray')\n",
    "    plt.axis('off')"
   ]
  }
 ],
 "metadata": {
  "celltoolbar": "Slideshow",
  "hide_input": false,
  "kernelspec": {
   "display_name": "Python 3",
   "language": "python",
   "name": "python3"
  },
  "language_info": {
   "codemirror_mode": {
    "name": "ipython",
    "version": 3
   },
   "file_extension": ".py",
   "mimetype": "text/x-python",
   "name": "python",
   "nbconvert_exporter": "python",
   "pygments_lexer": "ipython3",
   "version": "3.5.2"
  },
  "nav_menu": {},
  "toc": {
   "navigate_menu": true,
   "number_sections": false,
   "sideBar": true,
   "threshold": 6,
   "toc_cell": false,
   "toc_section_display": "block",
   "toc_window_display": false
  }
 },
 "nbformat": 4,
 "nbformat_minor": 0
}
